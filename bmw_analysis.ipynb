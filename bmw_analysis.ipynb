{
 "cells": [
  {
   "cell_type": "markdown",
   "id": "cc4a0356",
   "metadata": {},
   "source": [
    "# read data"
   ]
  },
  {
   "cell_type": "code",
   "execution_count": 22,
   "id": "e424b2f8",
   "metadata": {},
   "outputs": [],
   "source": [
    "import pandas as pd\n",
    "import matplotlib.pyplot as plt\n",
    "\n",
    "bmw_data = pd.read_json('Trips-Output.json')\n",
    "\n",
    "# end_soc_kwh = state of charge (soc) in kilowatt / hour (kwh) at the end of the trip (end)\n",
    "# end_soc_perc = soc in percent (perc) at the end\n",
    "# end_time = unix time (time) at the end\n",
    "# end_x_ind = x coordinate of the vehicle as an ind (x_ind) at the end\n",
    "# end_y_ind = y coordinate of the vehicle as an ind (y_ind) at the end\n",
    "# start_soc_kwh = soc in kwh at the start of the trip (start)\n",
    "# start_soc_perc = soc in perc at the start\n",
    "# start_time = time at the start\n",
    "# start_x_ind = x_ind at the start\n",
    "# start_y_ind = y_ind at the start\n",
    "# vehicle_type = indicator if a vehicle is either a plug-in hybrid electric vehicle (PHEV) or a battery electric vehicle (BEV)\n",
    "# vin = vehicle identification number"
   ]
  },
  {
   "cell_type": "code",
   "execution_count": 91,
   "id": "6d51199d",
   "metadata": {},
   "outputs": [
    {
     "name": "stdout",
     "output_type": "stream",
     "text": [
      "218 94 2 days 18:09:34 0.4299999999999997 kwh, 0.0 %, PHEV\n",
      "0 72 0 days 00:35:44 0.02999999999999936 kwh, 0.0 %, PHEV\n",
      "55 498 0 days 02:19:03 0.16000000000000014 kwh, 0.0 %, PHEV\n",
      "23 22 0 days 01:01:16 0.6300000000000008 kwh, 0.0 %, PHEV\n",
      "24 322 0 days 00:03:01 0.010000000000000675 kwh, 0.0 %, PHEV\n",
      "394 56 0 days 05:24:33 6.580000000000001 kwh, 58.0 %, PHEV\n",
      "3723 4329 0 days 00:07:08 0.019999999999999574 kwh, 0.0 %, PHEV\n",
      "95 315 0 days 06:58:37 7.42 kwh, 76.0 %, PHEV\n",
      "17 2642 7 days 17:55:41 7.359999999999999 kwh, 67.0 %, PHEV\n",
      "200 1546 10 days 04:40:32 8.280000000000001 kwh, 89.0 %, PHEV\n",
      "263 786 21 days 23:04:28 1.8500000000000014 kwh, 4.5 %, PHEV\n",
      "24 403 75 days 21:44:13 0.3200000000000003 kwh, 4.0 %, PHEV\n",
      "151 174 12 days 16:01:02 0.2699999999999996 kwh, 4.0 %, PHEV\n",
      "1335 1092 0 days 07:12:09 9.5 kwh, 81.5 %, PHEV\n",
      "95 398 0 days 07:34:46 6.029999999999999 kwh, 50.5 %, PHEV\n",
      "4106 393 177 days 03:09:36 3.68 kwh, 35.5 %, PHEV\n",
      "834 931 26 days 22:56:04 5.04 kwh, 51.5 %, PHEV\n",
      "51 106 160 days 00:28:19 0.2400000000000002 kwh, 2.0 %, PHEV\n",
      "495 214 77 days 14:24:00 5.960000000000001 kwh, 8.0 %, BEV\n",
      "495 214 53 days 11:03:57 9.89 kwh, 14.0 %, BEV\n",
      "1384 210 63 days 21:15:44 5.979999999999997 kwh, 7.5 %, BEV\n",
      "495 214 42 days 20:09:01 2.6700000000000017 kwh, 3.5 %, BEV\n",
      "478 515 0 days 21:51:08 1.2600000000000051 kwh, 1.5 %, BEV\n",
      "285 346 0 days 22:42:45 14.070000000000007 kwh, 18.5 %, BEV\n",
      "2544 1809 0 days 00:27:40 0.03999999999999915 kwh, 0.0 %, BEV\n",
      "188 358 60 days 07:13:33 9.25 kwh, 91.0 %, PHEV\n",
      "188 358 82 days 19:51:08 0.02999999999999936 kwh, 3.0 %, PHEV\n",
      "364 22 172 days 23:08:16 2.7800000000000002 kwh, 30.5 %, PHEV\n",
      "197 474 129 days 01:34:17 0.9100000000000001 kwh, 2.5 %, PHEV\n",
      "25 21 13 days 23:05:50 0.47000000000000064 kwh, 4.5 %, PHEV\n",
      "23 396 77 days 00:59:15 10.1 kwh, 51.5 %, PHEV\n",
      "293 56 79 days 18:08:38 7.92 kwh, 35.5 %, PHEV\n",
      "293 572 0 days 03:40:57 0.10000000000000142 kwh, 0.0 %, PHEV\n",
      "39 340 1 days 20:42:40 14.12 kwh, 70.5 %, PHEV\n"
     ]
    }
   ],
   "source": [
    "df = pd.DataFrame(columns=['charging_station_loc', 'parking_time'])\n",
    "for i in range(bmw_data['vin'].max()+1):\n",
    "    \n",
    "    #take data of each vehicle and sort them by start_time\n",
    "    vin_data=bmw_data[bmw_data['vin']==i].sort_values(by='start_time')\n",
    "  \n",
    "    length=len(vin_data)\n",
    "    pehv_total_charge_increased = 0\n",
    "    bev_total_charge_increased = 0\n",
    "    pehv_total_time = 0\n",
    "    bev_total_time = 0\n",
    "    count=0;\n",
    "   \n",
    "    for index, row in vin_data.head(length).iterrows():\n",
    "        \n",
    "        #count is set to 0 initially, when the first row is encountered do no comparison, \n",
    "        # just save this row to prev_row\n",
    "        if count==0:\n",
    "            prev_row = row\n",
    "            count=1\n",
    "        \n",
    "        #if current rows start location is same as prev_row's end location and the charging percentage is increased\n",
    "        # in the current row data, that means there was a charging session\n",
    "        else:\n",
    "            if(row['start_x_ind'] == prev_row['end_x_ind'] and row['start_y_ind'] == prev_row['end_y_ind'] \n",
    "               and row['start_soc_kwh'] > prev_row['end_soc_kwh']):\n",
    "#                 print(row['start_x_ind'], row['start_y_ind'], row['start_time'] - prev_row['end_time'], \n",
    "#                       row['start_soc_kwh'] - prev_row['end_soc_kwh'], \"kwh,\",\n",
    "#                       row['start_soc_perc'] - prev_row['end_soc_perc'], \"%,\",\n",
    "#                       row['vehicle_type'] )\n",
    "                \n",
    "                charging_station_loc = str(row['start_x_ind'])+','+ str(row['start_y_ind'])\n",
    "                parking_time = (row['start_time'] - prev_row['end_time']).total_seconds() / 3600                                                        \n",
    "                new_row = pd.DataFrame([[charging_station_loc, parking_time]], columns=['charging_station_loc', 'parking_time'])\n",
    "                df = df.append(new_row, ignore_index=True)\n",
    "                prev_row = row\n"
   ]
  },
  {
   "cell_type": "code",
   "execution_count": 96,
   "id": "1cce21ce",
   "metadata": {},
   "outputs": [
    {
     "name": "stdout",
     "output_type": "stream",
     "text": [
      "   charging_station_loc  parking_time\n",
      "0                218,94     66.159444\n",
      "1                  0,72      0.595556\n",
      "2                55,498      2.317500\n",
      "3                 23,22      1.021111\n",
      "4                24,322      0.050278\n",
      "5                394,56      5.409167\n",
      "6             3723,4329      0.118889\n",
      "7                95,315      6.976944\n",
      "8               17,2642    185.928056\n",
      "9              200,1546    244.675556\n",
      "10              263,786    527.074444\n",
      "11               24,403   1821.736944\n",
      "12              151,174    304.017222\n",
      "13            1335,1092      7.202500\n",
      "14               95,398      7.579444\n",
      "15             4106,393   4251.160000\n",
      "16              834,931    646.934444\n",
      "17               51,106   3840.471944\n",
      "18              495,214   1862.400000\n",
      "19              495,214   1283.065833\n",
      "20             1384,210   1533.262222\n",
      "21              495,214   1028.150278\n",
      "22              478,515     21.852222\n",
      "23              285,346     22.712500\n",
      "24            2544,1809      0.461111\n",
      "25              188,358   1447.225833\n",
      "26              188,358   1987.852222\n",
      "27               364,22   4151.137778\n",
      "28              197,474   3097.571389\n",
      "29                25,21    335.097222\n",
      "30               23,396   1848.987500\n",
      "31               293,56   1914.143889\n",
      "32              293,572      3.682500\n",
      "33               39,340     44.711111\n"
     ]
    },
    {
     "data": {
      "text/plain": [
       "<AxesSubplot:xlabel='charging_station_loc'>"
      ]
     },
     "execution_count": 96,
     "metadata": {},
     "output_type": "execute_result"
    },
    {
     "data": {
      "image/png": "[encoded data removed]",
      "text/plain": [
       "<Figure size 432x288 with 1 Axes>"
      ]
     },
     "metadata": {
      "needs_background": "light"
     },
     "output_type": "display_data"
    }
   ],
   "source": [
    "print(df)\n",
    "#plot the charging stations and their average charging times\n",
    "df.groupby('charging_station_loc').parking_time.mean().plot(kind = \"bar\")\n"
   ]
  },
  {
   "cell_type": "code",
   "execution_count": null,
   "id": "4a4b8ccd",
   "metadata": {},
   "outputs": [],
   "source": []
  }
 ],
 "metadata": {
  "kernelspec": {
   "display_name": "Python 3",
   "language": "python",
   "name": "python3"
  },
  "language_info": {
   "codemirror_mode": {
    "name": "ipython",
    "version": 3
   },
   "file_extension": ".py",
   "mimetype": "text/x-python",
   "name": "python",
   "nbconvert_exporter": "python",
   "pygments_lexer": "ipython3",
   "version": "3.8.8"
  }
 },
 "nbformat": 4,
 "nbformat_minor": 5
}
